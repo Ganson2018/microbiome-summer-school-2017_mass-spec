{
 "cells": [
  {
   "cell_type": "markdown",
   "metadata": {
    "collapsed": true
   },
   "source": [
    "**Microbiome Summer School 2017 - Mass Spectrometry Tutorial**\n",
    "\n",
    "Welcome to this tutorial for **Plenary 9** of the **Microbiome Summer School 2017**. This tutorial concerns *Algorithms for Mass Spectrometry*.\n",
    "\n",
    "This notebook contains working code and an example of applications of the algorithms covered in Plenary 9. A dataset of mass spectra will be processed and corrected by the Virtual Lock Mass algorithm and subsequently aligned. A machine learning algorithm will then be applied to the data."
   ]
  },
  {
   "cell_type": "code",
   "execution_count": 1,
   "metadata": {
    "collapsed": false
   },
   "outputs": [],
   "source": [
    "#This section contains some fundamental imports for the notebook.\n",
    "import numpy as np"
   ]
  },
  {
   "cell_type": "markdown",
   "metadata": {
    "collapsed": true
   },
   "source": [
    "The following section will load the mass spectra data into memory.\n",
    "\n",
    "This dataset is a set of 80 samples of red blood cell cultures. Their spectra was acquired by LDTD-ToF mass spectrometry on a Waters Synapt G2-Si instrument. These spectra were acquired in high resolution mode using a data independant acquisition mode ($MS^e$).\n",
    "\n",
    "Of these 80 samples, 40 are from red blood cell cultures infected by malaria. The other 40 samples are not infected. It is the objective of this tutorial to correct and align these spectra in order to classify them by machine learning.\n",
    "\n",
    "The dataset is stored in the file *dataset.h5*, contained within this tutorial. The [hdf5 format](https://en.wikipedia.org/wiki/Hierarchical_Data_Format) is a very efficient data storage format for multiple types of datasets and numeric data.\n",
    "\n",
    "The loading operation may take some seconds to complete."
   ]
  },
  {
   "cell_type": "code",
   "execution_count": 2,
   "metadata": {
    "collapsed": false
   },
   "outputs": [],
   "source": [
    "from tutorial_code.utils import load_spectra"
   ]
  },
  {
   "cell_type": "code",
   "execution_count": 3,
   "metadata": {
    "collapsed": false
   },
   "outputs": [],
   "source": [
    "datafile = \"dataset.h5\"\n",
    "spectra = load_spectra(datafile)"
   ]
  },
  {
   "cell_type": "markdown",
   "metadata": {},
   "source": [
    "At this point, the mass spectra are loaded in memory and ready for the next step.\n",
    "\n",
    "The next steps will be to **correct** and align these spectra in order to render them more comparable for the machine learning analysis to follow.\n",
    "\n",
    "First, the **Virtual Lock Mass** algorithm will be applied. \n",
    "The following command will import the corrector code."
   ]
  },
  {
   "cell_type": "code",
   "execution_count": 4,
   "metadata": {
    "collapsed": false
   },
   "outputs": [],
   "source": [
    "from tutorial_code.virtual_lock_mass import VirtualLockMassCorrector"
   ]
  },
  {
   "cell_type": "markdown",
   "metadata": {},
   "source": [
    "We must then create a corrector for the spectra.\n",
    "\n",
    "The following command will create a corrector with a minimum peak intensity of 1000 and a maximum distance of 40 ppms.\n",
    "Theses settings yield the most correction points of the dataset, and thus they are considered optimal."
   ]
  },
  {
   "cell_type": "code",
   "execution_count": 5,
   "metadata": {
    "collapsed": true
   },
   "outputs": [],
   "source": [
    "corrector = VirtualLockMassCorrector(window_size=40, minimum_peak_intensity=1000)"
   ]
  },
  {
   "cell_type": "markdown",
   "metadata": {},
   "source": [
    "The corrector is then *trained* on the dataset in order to detect the VLM correction points.\n",
    "This is done by using the *fit* function, with the dataset as a parameter."
   ]
  },
  {
   "cell_type": "code",
   "execution_count": 6,
   "metadata": {
    "collapsed": true
   },
   "outputs": [],
   "source": [
    "corrector.fit(spectra)"
   ]
  },
  {
   "cell_type": "markdown",
   "metadata": {},
   "source": [
    "Once the corrector has been trained, it can apply its correction to the spectra.\n",
    "We simply use the *transform* function of the corrector on the dataset.\n",
    "However, we must store the result in a new variable."
   ]
  },
  {
   "cell_type": "code",
   "execution_count": 7,
   "metadata": {
    "collapsed": false
   },
   "outputs": [],
   "source": [
    "corrected_spectra = corrector.transform(spectra)"
   ]
  },
  {
   "cell_type": "markdown",
   "metadata": {},
   "source": [
    "Now the spectra are corrected and larger shifts between samples should be removed.\n",
    "We must still **align** the spectra together in order to remove small variations in m/z values.\n",
    "\n",
    "The following command will import the aligner code."
   ]
  },
  {
   "cell_type": "code",
   "execution_count": 8,
   "metadata": {
    "collapsed": false
   },
   "outputs": [],
   "source": [
    "from tutorial_code.alignment import Mass_Spectra_Aligner"
   ]
  },
  {
   "cell_type": "markdown",
   "metadata": {},
   "source": [
    "As before, we must create an aligner.\n",
    "\n",
    "The following command will create this aligner with a window size of 30 ppms."
   ]
  },
  {
   "cell_type": "code",
   "execution_count": 9,
   "metadata": {
    "collapsed": false
   },
   "outputs": [],
   "source": [
    "aligner = Mass_Spectra_Aligner(window_size=20)"
   ]
  },
  {
   "cell_type": "markdown",
   "metadata": {},
   "source": [
    "The aligner will then detect the alignment points by being *fitted* to the mass spectra."
   ]
  },
  {
   "cell_type": "code",
   "execution_count": 10,
   "metadata": {
    "collapsed": false
   },
   "outputs": [],
   "source": [
    "aligner.fit(corrected_spectra)"
   ]
  },
  {
   "cell_type": "markdown",
   "metadata": {},
   "source": [
    "Once the aligner is fitted, we have the alignment points.\n",
    "\n",
    "The spectra will then be aligned by the *transform* function of the aligner.\n",
    "Once again, the aligned spectra will need to be stored in a new variable."
   ]
  },
  {
   "cell_type": "code",
   "execution_count": 11,
   "metadata": {
    "collapsed": false
   },
   "outputs": [],
   "source": [
    "aligned_spectra = aligner.transform(corrected_spectra)"
   ]
  },
  {
   "cell_type": "markdown",
   "metadata": {},
   "source": [
    "The spectra are now aligned.\n",
    "In terms of m/z values, the spectra are ready to be compared.\n",
    "\n",
    "The spectra must now be changed into a format more appropriate for machine learning, which the algorithms can read.\n",
    "This format is that of a data matrix, where each row represents a mass spectrum and the columns represent a peak that is present in the dataset.\n",
    "\n",
    "To make this conversion, import the spectrum_to_matrix function from the utilitaries."
   ]
  },
  {
   "cell_type": "code",
   "execution_count": 12,
   "metadata": {
    "collapsed": false
   },
   "outputs": [],
   "source": [
    "from tutorial_code.utils import spectrum_to_matrix\n",
    "\n",
    "data = spectrum_to_matrix(aligned_spectra)"
   ]
  },
  {
   "cell_type": "markdown",
   "metadata": {},
   "source": [
    "[tags]"
   ]
  },
  {
   "cell_type": "code",
   "execution_count": 13,
   "metadata": {
    "collapsed": true
   },
   "outputs": [],
   "source": [
    "from tutorial_code.utils import extract_tags\n",
    "\n",
    "tags = extract_tags(aligned_spectra)"
   ]
  }
 ],
 "metadata": {
  "kernelspec": {
   "display_name": "Python 3",
   "language": "python",
   "name": "python3"
  },
  "language_info": {
   "codemirror_mode": {
    "name": "ipython",
    "version": 3
   },
   "file_extension": ".py",
   "mimetype": "text/x-python",
   "name": "python",
   "nbconvert_exporter": "python",
   "pygments_lexer": "ipython3",
   "version": "3.5.2"
  }
 },
 "nbformat": 4,
 "nbformat_minor": 2
}
