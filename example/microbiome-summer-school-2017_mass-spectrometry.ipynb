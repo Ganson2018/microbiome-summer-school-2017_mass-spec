{
 "cells": [
  {
   "cell_type": "markdown",
   "metadata": {
    "collapsed": true
   },
   "source": [
    "**Microbiome Summer School 2017 - Mass Spectrometry Tutorial**\n",
    "\n",
    "Welcome to this tutorial for **Plenary 9** of the **Microbiome Summer School 2017**. This tutorial concerns *Algorithms for Mass Spectrometry*.\n",
    "\n",
    "This notebook contains working code and an example of applications of the algorithms covered in Plenary 9. A dataset of mass spectra will be processed and corrected by the Virtual Lock Mass algorithm and subsequently aligned. A machine learning algorithm will then be applied to the data."
   ]
  },
  {
   "cell_type": "code",
   "execution_count": null,
   "metadata": {
    "collapsed": false
   },
   "outputs": [],
   "source": [
    "#This section contains some fundamental imports for the notebook.\n",
    "import numpy as np"
   ]
  },
  {
   "cell_type": "markdown",
   "metadata": {
    "collapsed": true
   },
   "source": [
    "The following section will load the mass spectra data into memory.\n",
    "\n",
    "This dataset is a set of 80 samples of red blood cell cultures. Their spectra was acquired by LDTD-ToF mass spectrometry on a Waters Synapt G2-Si instrument. These spectra were acquired in high resolution mode using a data independant acquisition mode ($MS^e$).\n",
    "\n",
    "Of these 80 samples, 40 are from red blood cell cultures infected by malaria. The other 40 samples are not infected. It is the objective of this tutorial to correct and align these spectra in order to classify them by machine learning.\n",
    "\n",
    "The dataset is stored in the file *dataset.h5*, contained within this tutorial. The [hdf5 format](https://en.wikipedia.org/wiki/Hierarchical_Data_Format) is a very efficient data storage format for multiple types of datasets and numeric data.\n",
    "\n",
    "The loading operation may take some seconds to complete."
   ]
  },
  {
   "cell_type": "code",
   "execution_count": null,
   "metadata": {
    "collapsed": false
   },
   "outputs": [],
   "source": [
    "from tutorial_code.utils import load_spectra"
   ]
  },
  {
   "cell_type": "code",
   "execution_count": null,
   "metadata": {
    "collapsed": false
   },
   "outputs": [],
   "source": [
    "datafile = \"dataset.h5\"\n",
    "spectra = load_spectra(datafile)"
   ]
  },
  {
   "cell_type": "markdown",
   "metadata": {},
   "source": [
    "At this point, the mass spectra are loaded in memory and ready for the next step.\n",
    "\n",
    "The next steps will be to **correct** and align these spectra in order to render them more comparable for the machine learning analysis to follow.\n",
    "\n",
    "First, the **Virtual Lock Mass** algorithm will be applied. \n",
    "The following command will import the corrector code."
   ]
  },
  {
   "cell_type": "code",
   "execution_count": null,
   "metadata": {
    "collapsed": false
   },
   "outputs": [],
   "source": [
    "from tutorial_code.virtual_lock_mass import VirtualLockMassCorrector"
   ]
  },
  {
   "cell_type": "markdown",
   "metadata": {},
   "source": [
    "We must then create a corrector for the spectra.\n",
    "\n",
    "The following command will create a corrector with a minimum peak intensity of 1000 and a maximum distance of 40 ppms.\n",
    "Theses settings yield the most correction points of the dataset, and thus they are considered optimal."
   ]
  },
  {
   "cell_type": "code",
   "execution_count": null,
   "metadata": {
    "collapsed": true
   },
   "outputs": [],
   "source": [
    "corrector = VirtualLockMassCorrector(window_size=40, minimum_peak_intensity=1000)"
   ]
  },
  {
   "cell_type": "markdown",
   "metadata": {},
   "source": [
    "The corrector is then *trained* on the dataset in order to detect the VLM correction points.\n",
    "This is done by using the *fit* function, with the dataset as a parameter."
   ]
  },
  {
   "cell_type": "code",
   "execution_count": null,
   "metadata": {
    "collapsed": true
   },
   "outputs": [],
   "source": [
    "corrector.fit(spectra)"
   ]
  },
  {
   "cell_type": "markdown",
   "metadata": {},
   "source": [
    "Once the corrector has been trained, it can apply its correction to the spectra.\n",
    "We simply use the *transform* function of the corrector on the dataset.\n",
    "However, we must store the result in a new variable."
   ]
  },
  {
   "cell_type": "code",
   "execution_count": null,
   "metadata": {
    "collapsed": false
   },
   "outputs": [],
   "source": [
    "corrected_spectra = corrector.transform(spectra)"
   ]
  },
  {
   "cell_type": "markdown",
   "metadata": {},
   "source": [
    "Now the spectra are corrected and larger shifts between samples should be removed.\n",
    "We must still **align** the spectra together in order to remove small variations in m/z values.\n",
    "\n",
    "The following command will import the aligner code."
   ]
  },
  {
   "cell_type": "code",
   "execution_count": null,
   "metadata": {
    "collapsed": false
   },
   "outputs": [],
   "source": [
    "from tutorial_code.alignment import Mass_Spectra_Aligner"
   ]
  },
  {
   "cell_type": "markdown",
   "metadata": {},
   "source": [
    "As before, we must create an aligner.\n",
    "\n",
    "The following command will create this aligner with a window size of 30 ppms."
   ]
  },
  {
   "cell_type": "code",
   "execution_count": null,
   "metadata": {
    "collapsed": false
   },
   "outputs": [],
   "source": [
    "aligner = Mass_Spectra_Aligner(window_size=30)"
   ]
  },
  {
   "cell_type": "markdown",
   "metadata": {},
   "source": [
    "The aligner will then detect the alignment points by being *fitted* to the mass spectra."
   ]
  },
  {
   "cell_type": "code",
   "execution_count": null,
   "metadata": {
    "collapsed": false
   },
   "outputs": [],
   "source": [
    "aligner.fit(corrected_spectra)"
   ]
  },
  {
   "cell_type": "markdown",
   "metadata": {},
   "source": [
    "Once the aligner is fitted, we have the alignment points.\n",
    "\n",
    "The spectra will then be aligned by the *transform* function of the aligner.\n",
    "Once again, the aligned spectra will need to be stored in a new variable."
   ]
  },
  {
   "cell_type": "code",
   "execution_count": null,
   "metadata": {
    "collapsed": false
   },
   "outputs": [],
   "source": [
    "aligned_spectra = aligner.transform(corrected_spectra)"
   ]
  },
  {
   "cell_type": "markdown",
   "metadata": {},
   "source": [
    "The spectra are now aligned.\n",
    "In terms of m/z values, the spectra are ready to be compared.\n",
    "\n",
    "The spectra must now be changed into a format more appropriate for machine learning, which the algorithms can read.\n",
    "This format is that of a data matrix, where each row represents a mass spectrum and the columns represent a peak that is present in the dataset.\n",
    "\n",
    "To make this conversion, import the spectrum_to_matrix function from the utilitaries."
   ]
  },
  {
   "cell_type": "code",
   "execution_count": null,
   "metadata": {
    "collapsed": false
   },
   "outputs": [],
   "source": [
    "from tutorial_code.utils import spectrum_to_matrix\n",
    "\n",
    "data = spectrum_to_matrix(aligned_spectra)"
   ]
  },
  {
   "cell_type": "markdown",
   "metadata": {},
   "source": [
    "Finally, we need to extract labels from the spectra in order to know which spectrum represents which class (infected or not by malaria).\n",
    "\n",
    "The following function extracts this information from the spectra's metadata and return an array of tags, which are 0 for non-infected samples and 1 for malaria-infected samples"
   ]
  },
  {
   "cell_type": "code",
   "execution_count": null,
   "metadata": {
    "collapsed": true
   },
   "outputs": [],
   "source": [
    "from tutorial_code.utils import extract_tags\n",
    "\n",
    "tags = extract_tags(aligned_spectra)"
   ]
  },
  {
   "cell_type": "markdown",
   "metadata": {},
   "source": [
    "Here we start on the machine learning analysis more properly.\n",
    "\n",
    "We need to ensure that we have a good experimental workflow that is reproducible and whose predictors are generalizable to more data.\n",
    "\n",
    "A first step is of splitting the data into a **training set** and a **testing set** of samples.\n",
    "The algorithms will be trained on and exposed to the training set, while the testing set is set apart and kept for a final evaluation of the model.\n",
    "This way, we can ensure that the model can generalize its predictions on new or never seen before data.\n",
    "\n",
    "A dataset can easily be split by the existing function *train_test_split* from the scikit-learn package."
   ]
  },
  {
   "cell_type": "code",
   "execution_count": null,
   "metadata": {
    "collapsed": true
   },
   "outputs": [],
   "source": [
    "from sklearn.model_selection import train_test_split\n",
    "\n",
    "X_train, X_test, Y_train, Y_test = train_test_split(data, tags, test_size=0.25, random_state=42)"
   ]
  },
  {
   "cell_type": "markdown",
   "metadata": {},
   "source": [
    "The above command split the dataset randomly into a training set of 60 spectra (or examples, samples) and a testing set of 20 spectra.\n",
    "All the feature information, i.e. the data matrix containing the peak intensities, are contained within the matrices X_train and X_test.\n",
    "The arrays Y_train and Y_test respectively contain the tags pertaining to the samples.\n",
    "\n",
    "The random_state so that we can reproduce this exact split of samples, instead of getting a random split each time we repeat this command"
   ]
  },
  {
   "cell_type": "markdown",
   "metadata": {},
   "source": [
    "Next, we will create an object to handle the cross-validation step and our learner at the same time.\n",
    "\n",
    "We will create a Decision Tree classifier (as presented during the plenary sessions) for this classification task.\n",
    "\n",
    "Cross-validation is more detailed in the online page for this tutorial, as well as in a previous tutorial.\n",
    "In short, this process breaks the training sets into **folds**, in this case 5.\n",
    "The training algorithm will be trained on all the folds but one, and then tested on the remaining one.\n",
    "This process is repeated so that each fold serves as a test fold once.\n",
    "By this method of evaluation, we can determine which parameters of the algorithm (called *hyper-parameters*) are best.\n",
    "\n"
   ]
  },
  {
   "cell_type": "code",
   "execution_count": null,
   "metadata": {
    "collapsed": true
   },
   "outputs": [],
   "source": [
    "from sklearn.model_selection import GridSearchCV\n",
    "from sklearn.tree import DecisionTreeClassifier\n",
    "from sklearn.ensemble import AdaBoostClassifier \n",
    "#this algorithm will not be used in the tutorial, but was presented in the plenary.\n",
    "#Try using it on your own and see the results!"
   ]
  },
  {
   "cell_type": "markdown",
   "metadata": {},
   "source": [
    "The Decision Tree classifier has one hyper-parameter that we will cross-validate in this tutorial.\n",
    "This hyper-parameter is the maximum depth of the decision tree allowed.\n",
    "\n",
    "The following commands will create the parameter grid, the classifier and the cross-validator."
   ]
  },
  {
   "cell_type": "code",
   "execution_count": null,
   "metadata": {
    "collapsed": true
   },
   "outputs": [],
   "source": [
    "param_grid = {\n",
    "    \"max_depth\":[1,2,3,4,5,6]\n",
    "}"
   ]
  },
  {
   "cell_type": "code",
   "execution_count": null,
   "metadata": {
    "collapsed": true
   },
   "outputs": [],
   "source": [
    "learner = GridSearchCV(DecisionTreeClassifier(random_state=42),\n",
    "                      param_grid=param_grid,\n",
    "                      cv=5) #the number of folds"
   ]
  },
  {
   "cell_type": "markdown",
   "metadata": {},
   "source": [
    "The learner is ready to be trained.\n",
    "\n",
    "We use the *fit* method with the training set.\n",
    "While using a GridSearchCV object, the fit will conduct both the cross-validation and train the model with the best hyper-parameters on the whole training set."
   ]
  },
  {
   "cell_type": "code",
   "execution_count": null,
   "metadata": {
    "collapsed": false
   },
   "outputs": [],
   "source": [
    "learner.fit(X_train, Y_train)"
   ]
  },
  {
   "cell_type": "markdown",
   "metadata": {},
   "source": [
    "We can then check the optimal parameters for the learner, and evaluate the predictions on the training set and testing sets."
   ]
  },
  {
   "cell_type": "code",
   "execution_count": null,
   "metadata": {
    "collapsed": false
   },
   "outputs": [],
   "source": [
    "print(learner.best_estimator_)"
   ]
  },
  {
   "cell_type": "markdown",
   "metadata": {},
   "source": [
    "The learner can then predict on both the training sets and testing sets.\n",
    "We can then evalutate the learner by comparing the true labels with the predicted ones."
   ]
  },
  {
   "cell_type": "code",
   "execution_count": null,
   "metadata": {
    "collapsed": false
   },
   "outputs": [],
   "source": [
    "predictions_on_train = learner.predict(X_train)"
   ]
  },
  {
   "cell_type": "code",
   "execution_count": null,
   "metadata": {
    "collapsed": true
   },
   "outputs": [],
   "source": [
    "predictions_on_test = learner.predict(X_test)"
   ]
  },
  {
   "cell_type": "markdown",
   "metadata": {},
   "source": [
    "We can then use an existing function of scikit-learn that build a classification report on the comparison between the true labels and the predictions.\n",
    "This gives us the precision and recall of the classifier, as well as the F1 Score.\n",
    "\n",
    "An additionnal function gives us the zero one loss, or the error rate, of the learner.\n",
    "If we print one minus the zero one loss, we obtain the percentage of accuracy of the classifier.\n",
    "\n",
    "Further information on the metrics is presented on the website of this tutorial."
   ]
  },
  {
   "cell_type": "code",
   "execution_count": null,
   "metadata": {
    "collapsed": true
   },
   "outputs": [],
   "source": [
    "from sklearn.metrics import classification_report, zero_one_loss"
   ]
  },
  {
   "cell_type": "markdown",
   "metadata": {},
   "source": [
    "Here are the results on the training set (empirical risk/accuracy)."
   ]
  },
  {
   "cell_type": "code",
   "execution_count": null,
   "metadata": {
    "collapsed": false
   },
   "outputs": [],
   "source": [
    "print(classification_report(Y_train, predictions_on_train))\n",
    "print(1. - zero_one_loss(Y_train, predictions_on_train))"
   ]
  },
  {
   "cell_type": "markdown",
   "metadata": {},
   "source": [
    "And here are the results on the testing set (test risk/accuray)."
   ]
  },
  {
   "cell_type": "code",
   "execution_count": null,
   "metadata": {
    "collapsed": false
   },
   "outputs": [],
   "source": [
    "print(classification_report(Y_test, predictions_on_test))\n",
    "print(1. - zero_one_loss(Y_test, predictions_on_test))"
   ]
  },
  {
   "cell_type": "markdown",
   "metadata": {},
   "source": [
    "This marks the end of the tutorial.\n",
    "If you wish to experiment further, feel free to edit parameters and even change the machine learning algorithm. \n",
    "\n",
    "Below is the code for a simple AdaBoost Classifier to test on the dataset."
   ]
  },
  {
   "cell_type": "code",
   "execution_count": null,
   "metadata": {
    "collapsed": true
   },
   "outputs": [],
   "source": [
    "param_grid = {\n",
    "    \"n_estimators\":[1,5,10,20,30,40,50,60,70,80,90,100],\n",
    "    \"learning_rate\":[0.01, 0.1, 1., 10., 100.]\n",
    "}\n",
    "\n",
    "learner = GridSearchCV(AdaBoostClassifier(random_state=42),\n",
    "                      param_grid=param_grid,\n",
    "                      cv=5) #the number of folds"
   ]
  }
 ],
 "metadata": {
  "kernelspec": {
   "display_name": "Python 3",
   "language": "python",
   "name": "python3"
  },
  "language_info": {
   "codemirror_mode": {
    "name": "ipython",
    "version": 3
   },
   "file_extension": ".py",
   "mimetype": "text/x-python",
   "name": "python",
   "nbconvert_exporter": "python",
   "pygments_lexer": "ipython3",
   "version": "3.5.2"
  }
 },
 "nbformat": 4,
 "nbformat_minor": 2
}
